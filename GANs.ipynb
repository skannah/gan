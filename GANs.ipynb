{
 "cells": [
  {
   "cell_type": "code",
   "execution_count": 3,
   "id": "5f9ce27c",
   "metadata": {},
   "outputs": [
    {
     "ename": "NameError",
     "evalue": "name 'tf' is not defined",
     "output_type": "error",
     "traceback": [
      "\u001b[1;31m---------------------------------------------------------------------------\u001b[0m",
      "\u001b[1;31mNameError\u001b[0m                                 Traceback (most recent call last)",
      "Cell \u001b[1;32mIn[3], line 2\u001b[0m\n\u001b[0;32m      1\u001b[0m \u001b[38;5;28;01mtry\u001b[39;00m:\n\u001b[1;32m----> 2\u001b[0m     tpu \u001b[38;5;241m=\u001b[39m \u001b[43mtf\u001b[49m\u001b[38;5;241m.\u001b[39mdistribute\u001b[38;5;241m.\u001b[39mcluster_resolver\u001b[38;5;241m.\u001b[39mTPUClusterResolver()  \u001b[38;5;66;03m# Detect TPU\u001b[39;00m\n\u001b[0;32m      3\u001b[0m     tf\u001b[38;5;241m.\u001b[39mconfig\u001b[38;5;241m.\u001b[39mexperimental_connect_to_cluster(tpu)\n",
      "\u001b[1;31mNameError\u001b[0m: name 'tf' is not defined",
      "\nDuring handling of the above exception, another exception occurred:\n",
      "\u001b[1;31mNameError\u001b[0m                                 Traceback (most recent call last)",
      "Cell \u001b[1;32mIn[3], line 8\u001b[0m\n\u001b[0;32m      6\u001b[0m     \u001b[38;5;28mprint\u001b[39m(\u001b[38;5;124m\"\u001b[39m\u001b[38;5;124mRunning on TPU!\u001b[39m\u001b[38;5;124m\"\u001b[39m)\n\u001b[0;32m      7\u001b[0m \u001b[38;5;28;01mexcept\u001b[39;00m:\n\u001b[1;32m----> 8\u001b[0m     strategy \u001b[38;5;241m=\u001b[39m \u001b[43mtf\u001b[49m\u001b[38;5;241m.\u001b[39mdistribute\u001b[38;5;241m.\u001b[39mget_strategy()  \u001b[38;5;66;03m# Default to GPU/CPU\u001b[39;00m\n\u001b[0;32m      9\u001b[0m     \u001b[38;5;28mprint\u001b[39m(\u001b[38;5;124m\"\u001b[39m\u001b[38;5;124mRunning on CPU/GPU\u001b[39m\u001b[38;5;124m\"\u001b[39m)\n\u001b[0;32m     11\u001b[0m AUTOTUNE \u001b[38;5;241m=\u001b[39m tf\u001b[38;5;241m.\u001b[39mdata\u001b[38;5;241m.\u001b[39mexperimental\u001b[38;5;241m.\u001b[39mAUTOTUNE\n",
      "\u001b[1;31mNameError\u001b[0m: name 'tf' is not defined"
     ]
    }
   ],
   "source": [
    "try:\n",
    "    tpu = tf.distribute.cluster_resolver.TPUClusterResolver()  # Detect TPU\n",
    "    tf.config.experimental_connect_to_cluster(tpu)\n",
    "    tf.tpu.experimental.initialize_tpu_system(tpu)\n",
    "    strategy = tf.distribute.TPUStrategy(tpu)\n",
    "    print(\"Running on TPU!\")\n",
    "except:\n",
    "    strategy = tf.distribute.get_strategy()  # Default to GPU/CPU\n",
    "    print(\"Running on CPU/GPU\")\n",
    "\n",
    "AUTOTUNE = tf.data.experimental.AUTOTUNE"
   ]
  },
  {
   "cell_type": "code",
   "execution_count": 4,
   "id": "1ab78eb5",
   "metadata": {},
   "outputs": [],
   "source": [
    "class Config():\n",
    "    seed = 42\n",
    "    monet_path = '/monet_tfrec/*.tfrec'\n",
    "    photo_path = '/photo_tfrec/*.tfrec'\n",
    "    image_size = [256, 256]\n",
    "    monet_filenames = []\n",
    "    photo_filenames = []\n",
    "    identity_weight = 2.0\n",
    "    batch_size = 1\n",
    "    epochs = 40"
   ]
  },
  {
   "cell_type": "code",
   "execution_count": 5,
   "id": "5a505e55",
   "metadata": {},
   "outputs": [
    {
     "ename": "NameError",
     "evalue": "name 'tf' is not defined",
     "output_type": "error",
     "traceback": [
      "\u001b[1;31m---------------------------------------------------------------------------\u001b[0m",
      "\u001b[1;31mNameError\u001b[0m                                 Traceback (most recent call last)",
      "Cell \u001b[1;32mIn[5], line 1\u001b[0m\n\u001b[1;32m----> 1\u001b[0m \u001b[43mtf\u001b[49m\u001b[38;5;241m.\u001b[39mrandom\u001b[38;5;241m.\u001b[39mset_seed(Config\u001b[38;5;241m.\u001b[39mseed)\n\u001b[0;32m      2\u001b[0m np\u001b[38;5;241m.\u001b[39mrandom\u001b[38;5;241m.\u001b[39mseed(Config\u001b[38;5;241m.\u001b[39mseed)\n",
      "\u001b[1;31mNameError\u001b[0m: name 'tf' is not defined"
     ]
    }
   ],
   "source": [
    "tf.random.set_seed(Config.seed)\n",
    "np.random.seed(Config.seed)"
   ]
  },
  {
   "cell_type": "code",
   "execution_count": null,
   "id": "1c3447f9",
   "metadata": {},
   "outputs": [],
   "source": [
    "gcs_path = KaggleDatasets().get_gcs_path()"
   ]
  },
  {
   "cell_type": "code",
   "execution_count": null,
   "id": "42cb1b24",
   "metadata": {},
   "outputs": [],
   "source": [
    "Config.monet_filenames = tf.io.gfile.glob(str(gcs_path + Config.monet_path))\n",
    "print('Monet TFRecord Files:', len(Config.monet_filenames))\n",
    "\n",
    "Config.photo_filenames = tf.io.gfile.glob(str(gcs_path + Config.photo_path))\n",
    "print('Photo TFRecord Files:', len(Config.photo_filenames))"
   ]
  },
  {
   "cell_type": "code",
   "execution_count": null,
   "id": "7c35d1d2",
   "metadata": {},
   "outputs": [],
   "source": [
    "def decode_image(image):\n",
    "    image = tf.image.decode_jpeg(image, channels=3)\n",
    "    image = (tf.cast(image, tf.float32) / 127.5) - 1\n",
    "    image = tf.reshape(image, [*Config.image_size, 3])\n",
    "    return image\n",
    "\n",
    "def read_tfrecord(example):\n",
    "    tfrecord_format = {\n",
    "        \"image_name\": tf.io.FixedLenFeature([], tf.string),\n",
    "        \"image\": tf.io.FixedLenFeature([], tf.string),\n",
    "        \"target\": tf.io.FixedLenFeature([], tf.string)\n",
    "    }\n",
    "    example = tf.io.parse_single_example(example, tfrecord_format)\n",
    "    image = decode_image(example['image'])\n",
    "    return image"
   ]
  },
  {
   "cell_type": "code",
   "execution_count": null,
   "id": "06f713fb",
   "metadata": {},
   "outputs": [],
   "source": [
    "def load_dataset(filenames, labeled=True, ordered=False):\n",
    "    dataset = tf.data.TFRecordDataset(filenames)\n",
    "    dataset = dataset.map(read_tfrecord, num_parallel_calls=AUTOTUNE)\n",
    "    return dataset"
   ]
  },
  {
   "cell_type": "code",
   "execution_count": null,
   "id": "c6195c2b",
   "metadata": {},
   "outputs": [],
   "source": [
    "monet_ds = load_dataset(Config.monet_filenames, labeled=True).batch(1)\n",
    "photo_ds = load_dataset(Config.photo_filenames, labeled=True).batch(1)"
   ]
  },
  {
   "cell_type": "code",
   "execution_count": null,
   "id": "7bbedaea",
   "metadata": {},
   "outputs": [],
   "source": [
    "example_monet = next(iter(monet_ds))\n",
    "example_photo = next(iter(photo_ds))"
   ]
  },
  {
   "cell_type": "code",
   "execution_count": null,
   "id": "bd6fe802",
   "metadata": {},
   "outputs": [],
   "source": [
    "# Plot 1 image from each set\n",
    "plt.figure(figsize=(10, 5))\n",
    "\n",
    "# Monet image\n",
    "ax = plt.subplot(1, 2, 1)\n",
    "plt.imshow((example_monet[0].numpy() * 0.5 + 0.5))  # Unnormalize if in [-1, 1]\n",
    "plt.title(\"Monet\")\n",
    "plt.axis(\"off\")\n",
    "\n",
    "# Photo image\n",
    "ax = plt.subplot(1, 2, 2)\n",
    "plt.imshow((example_photo[0].numpy() * 0.5 + 0.5))  # Unnormalize if in [-1, 1]\n",
    "plt.title(\"Photo\")\n",
    "plt.axis(\"off\")\n",
    "\n",
    "plt.tight_layout()\n",
    "plt.show()"
   ]
  },
  {
   "cell_type": "code",
   "execution_count": null,
   "id": "32978c14",
   "metadata": {},
   "outputs": [],
   "source": [
    "def downsample(filters, size, apply_batchnorm=True):\n",
    "    initializer = tf.random_normal_initializer(0., 0.02)\n",
    "    result = Sequential([\n",
    "        Conv2D(filters, size, strides=2, padding='same',\n",
    "               kernel_initializer=initializer, use_bias=False),\n",
    "    ])\n",
    "    if apply_batchnorm:\n",
    "        result.add(BatchNormalization())\n",
    "        \n",
    "    result.add(LeakyReLU())\n",
    "    return result\n",
    "\n",
    "def upsample(filters, size, apply_dropout=False):\n",
    "    initializer = tf.random_normal_initializer(0., 0.02)\n",
    "    result = Sequential([\n",
    "        Conv2DTranspose(filters, size, strides=2, padding='same',\n",
    "                                      kernel_initializer=initializer, use_bias=False),\n",
    "        BatchNormalization()\n",
    "    ])\n",
    "    if apply_dropout:\n",
    "        result.add(Dropout(0.5))\n",
    "    result.add(ReLU())\n",
    "    return result"
   ]
  },
  {
   "cell_type": "code",
   "execution_count": null,
   "id": "f1e814ce",
   "metadata": {},
   "outputs": [],
   "source": [
    "def Generator():\n",
    "    inputs = Input(shape=[*Config.image_size, 3])\n",
    "    down_stack = [\n",
    "        downsample(64, 4, apply_batchnorm=False),  # (bs, 128, 128, 64)\n",
    "        downsample(128, 4),  # (bs, 64, 64, 128)\n",
    "        downsample(256, 4),  # (bs, 32, 32, 256)\n",
    "    ]\n",
    "    up_stack = [\n",
    "        upsample(128, 4),  # (bs, 64, 64, 128)\n",
    "        upsample(64, 4),   # (bs, 128, 128, 64)\n",
    "    ]\n",
    "    last = Conv2DTranspose(3, 4, strides=2, padding='same',\n",
    "                            kernel_initializer=tf.random_normal_initializer(0., 0.02),\n",
    "                            activation='tanh')  # (bs, 256, 256, 3)\n",
    "\n",
    "    x = inputs\n",
    "    skips = []\n",
    "    for down in down_stack:\n",
    "        x = down(x)\n",
    "        skips.append(x)\n",
    "    skips = reversed(skips[:-1])\n",
    "\n",
    "    for up, skip in zip(up_stack, skips):\n",
    "        x = up(x)\n",
    "        x = Concatenate()([x, skip])\n",
    "\n",
    "    x = last(x)\n",
    "    return Model(inputs=inputs, outputs=x)"
   ]
  },
  {
   "cell_type": "code",
   "execution_count": null,
   "id": "195e5392",
   "metadata": {},
   "outputs": [],
   "source": [
    "def Discriminator():\n",
    "    initializer = tf.random_normal_initializer(0., 0.02)\n",
    "    inp = Input(shape=[*Config.image_size, 3], name='input_image')\n",
    "    x = downsample(64, 4, False)(inp)\n",
    "    x = downsample(128, 4)(x)\n",
    "    x = downsample(256, 4)(x)\n",
    "    x = ZeroPadding2D()(x)\n",
    "    x = Conv2D(512, 4, strides=1, kernel_initializer=initializer, use_bias=False)(x)\n",
    "    x = BatchNormalization()(x)\n",
    "    x = LeakyReLU()(x)\n",
    "    x = ZeroPadding2D()(x)\n",
    "    x = Conv2D(1, 4, strides=1, kernel_initializer=initializer)(x)\n",
    "    return Model(inputs=inp, outputs=x)"
   ]
  },
  {
   "cell_type": "code",
   "execution_count": null,
   "id": "d266e236",
   "metadata": {},
   "outputs": [],
   "source": [
    "generator_g = Generator()  # Monet → Photo\n",
    "generator_f = Generator()  # Photo → Monet\n",
    "\n",
    "discriminator_x = Discriminator()  # Discriminator for Monet\n",
    "discriminator_y = Discriminator()  # Discriminator for Photo"
   ]
  },
  {
   "cell_type": "code",
   "execution_count": null,
   "id": "ff0f5c1c",
   "metadata": {},
   "outputs": [],
   "source": [
    "generator_f.summary()\n",
    "discriminator_x.summary()"
   ]
  },
  {
   "cell_type": "code",
   "execution_count": null,
   "id": "f4a5a659",
   "metadata": {},
   "outputs": [],
   "source": [
    "loss_obj = tf.keras.losses.BinaryCrossentropy(from_logits=True)\n",
    "\n",
    "def discriminator_loss(real, generated):\n",
    "    real_loss = loss_obj(tf.ones_like(real), real)\n",
    "    generated_loss = loss_obj(tf.zeros_like(generated), generated)\n",
    "    return (real_loss + generated_loss) * 0.5\n",
    "\n",
    "def generator_loss(generated):\n",
    "    return loss_obj(tf.ones_like(generated), generated)\n",
    "\n",
    "def cycle_loss(real_image, cycled_image):\n",
    "    return tf.reduce_mean(tf.abs(real_image - cycled_image)) * 10.0\n",
    "\n",
    "def identity_loss(real_image, same_image):\n",
    "    return tf.reduce_mean(tf.abs(real_image - same_image)) * 5.0"
   ]
  },
  {
   "cell_type": "code",
   "execution_count": null,
   "id": "001b84e5",
   "metadata": {},
   "outputs": [],
   "source": [
    "@tf.function\n",
    "def train_step(real_x, real_y):\n",
    "    with tf.GradientTape(persistent=True) as tape:\n",
    "        fake_y = generator_g(real_x, training=True)\n",
    "        cycled_x = generator_f(fake_y, training=True)\n",
    "\n",
    "        fake_x = generator_f(real_y, training=True)\n",
    "        cycled_y = generator_g(fake_x, training=True)\n",
    "\n",
    "        same_x = generator_f(real_x, training=True)\n",
    "        same_y = generator_g(real_y, training=True)\n",
    "\n",
    "        disc_real_x = discriminator_x(real_x, training=True)\n",
    "        disc_real_y = discriminator_y(real_y, training=True)\n",
    "\n",
    "        disc_fake_x = discriminator_x(fake_x, training=True)\n",
    "        disc_fake_y = discriminator_y(fake_y, training=True)\n",
    "\n",
    "        gen_g_loss = generator_loss(disc_fake_y)\n",
    "        gen_f_loss = generator_loss(disc_fake_x)\n",
    "\n",
    "        total_cycle_loss = cycle_loss(real_x, cycled_x) + cycle_loss(real_y, cycled_y)\n",
    "        total_gen_g_loss = gen_g_loss + total_cycle_loss + identity_loss(real_y, same_y) * Config.identity_weight\n",
    "        total_gen_f_loss = gen_f_loss + total_cycle_loss + identity_loss(real_x, same_x)\n",
    "\n",
    "        disc_x_loss = discriminator_loss(disc_real_x, disc_fake_x)\n",
    "        disc_y_loss = discriminator_loss(disc_real_y, disc_fake_y)\n",
    "\n",
    "    # Apply gradients\n",
    "    generator_g_grad = tape.gradient(total_gen_g_loss, generator_g.trainable_variables)\n",
    "    generator_f_grad = tape.gradient(total_gen_f_loss, generator_f.trainable_variables)\n",
    "\n",
    "    discriminator_x_grad = tape.gradient(disc_x_loss, discriminator_x.trainable_variables)\n",
    "    discriminator_y_grad = tape.gradient(disc_y_loss, discriminator_y.trainable_variables)\n",
    "\n",
    "    generator_g_optimizer.apply_gradients(zip(generator_g_grad, generator_g.trainable_variables))\n",
    "    generator_f_optimizer.apply_gradients(zip(generator_f_grad, generator_f.trainable_variables))\n",
    "    discriminator_x_optimizer.apply_gradients(zip(discriminator_x_grad, discriminator_x.trainable_variables))\n",
    "    discriminator_y_optimizer.apply_gradients(zip(discriminator_y_grad, discriminator_y.trainable_variables))"
   ]
  },
  {
   "cell_type": "code",
   "execution_count": null,
   "id": "598d8bda",
   "metadata": {},
   "outputs": [],
   "source": [
    "def visualize_epoch_result(epoch):\n",
    "    # Visualize intermediate epochs\n",
    "    if (epoch + 1) % 5 == 0:\n",
    "        os.makedirs(\"cycle_outputs\", exist_ok=True)\n",
    "        \n",
    "        sample_photo = next(iter(photo_ds))\n",
    "        prediction = generator_g(sample_photo)\n",
    "    \n",
    "        plt.figure(figsize=(8, 4))\n",
    "        plt.subplot(1, 2, 1)\n",
    "        plt.imshow((sample_photo[0] * 0.5 + 0.5).numpy())\n",
    "        plt.title(\"Input\")\n",
    "        plt.axis('off')\n",
    "    \n",
    "        plt.subplot(1, 2, 2)\n",
    "        plt.imshow((prediction[0] * 0.5 + 0.5).numpy())\n",
    "        plt.title(f\"Epoch {epoch+1}\")\n",
    "        plt.axis('off')\n",
    "    \n",
    "        plt.tight_layout()\n",
    "        plt.savefig(f\"cycle_outputs/epoch_{epoch+1}.png\")\n",
    "        plt.show()"
   ]
  },
  {
   "cell_type": "code",
   "execution_count": null,
   "id": "ef316caf",
   "metadata": {},
   "outputs": [],
   "source": [
    "def recalc_losses():\n",
    "    sample_photo = next(iter(photo_ds))\n",
    "    sample_monet = next(iter(monet_ds))\n",
    "\n",
    "    fake_y = generator_g(sample_photo, training=False)\n",
    "    cycled_x = generator_f(fake_y, training=False)\n",
    "    fake_x = generator_f(sample_monet, training=False)\n",
    "    cycled_y = generator_g(fake_x, training=False)\n",
    "    same_x = generator_f(sample_photo, training=False)\n",
    "    same_y = generator_g(sample_monet, training=False)\n",
    "\n",
    "    disc_real_x = discriminator_x(sample_photo, training=False)\n",
    "    disc_fake_x = discriminator_x(fake_x, training=False)\n",
    "    disc_real_y = discriminator_y(sample_monet, training=False)\n",
    "    disc_fake_y = discriminator_y(fake_y, training=False)\n",
    "\n",
    "    # Calculate losses for visualization\n",
    "    g_loss = generator_loss(disc_fake_y)\n",
    "    f_loss = generator_loss(disc_fake_x)\n",
    "    cyc_loss = cycle_loss(sample_photo, cycled_x) + cycle_loss(sample_monet, cycled_y)\n",
    "    id_loss = identity_loss(sample_monet, same_y) + identity_loss(sample_photo, same_x)\n",
    "    dx_loss = discriminator_loss(disc_real_x, disc_fake_x)\n",
    "    dy_loss = discriminator_loss(disc_real_y, disc_fake_y)\n",
    "\n",
    "    # Append losses\n",
    "    gen_g_losses.append(g_loss.numpy())\n",
    "    gen_f_losses.append(f_loss.numpy())\n",
    "    disc_x_losses.append(dx_loss.numpy())\n",
    "    disc_y_losses.append(dy_loss.numpy())\n",
    "    cycle_losses.append(cyc_loss.numpy())\n",
    "    identity_losses.append(id_loss.numpy())"
   ]
  },
  {
   "cell_type": "code",
   "execution_count": null,
   "id": "da45395c",
   "metadata": {},
   "outputs": [],
   "source": [
    "initial_lr = 2e-4\n",
    "lr_schedule = tf.keras.optimizers.schedules.PiecewiseConstantDecay(\n",
    "    boundaries=[20],  # after 20 epochs\n",
    "    values=[initial_lr, initial_lr * 0.5]  # decay to half\n",
    ")\n",
    "\n",
    "# apply clipnorm=1.0 to make backpropagation more stable\n",
    "generator_g_optimizer = tf.keras.optimizers.Adam(lr_schedule, beta_1=0.5, clipnorm=1.0)\n",
    "generator_f_optimizer = tf.keras.optimizers.Adam(lr_schedule, beta_1=0.5)\n",
    "discriminator_x_optimizer = tf.keras.optimizers.Adam(lr_schedule, beta_1=0.5)\n",
    "discriminator_y_optimizer = tf.keras.optimizers.Adam(lr_schedule, beta_1=0.5)"
   ]
  },
  {
   "cell_type": "code",
   "execution_count": null,
   "id": "8ea71458",
   "metadata": {},
   "outputs": [],
   "source": [
    "gen_g_losses = []\n",
    "gen_f_losses = []\n",
    "disc_x_losses = []\n",
    "disc_y_losses = []\n",
    "cycle_losses = []\n",
    "identity_losses = []\n",
    "\n",
    "for epoch in range(Config.epochs):\n",
    "    for image_x, image_y in tf.data.Dataset.zip((photo_ds, monet_ds)):\n",
    "        train_step(image_x, image_y)\n",
    "        \n",
    "    recalc_losses()\n",
    "    visualize_epoch_result(epoch)\n",
    "    \n",
    "    print(f\"Epoch {epoch+1}/{Config.epochs} done.\")"
   ]
  },
  {
   "cell_type": "code",
   "execution_count": null,
   "id": "abcdd5e6",
   "metadata": {},
   "outputs": [],
   "source": [
    "epochs = range(1, len(gen_g_losses) + 1)\n",
    "\n",
    "plt.figure(figsize=(12, 6))\n",
    "\n",
    "plt.plot(epochs, gen_g_losses, label='Generator G Loss (Photo→Monet)')\n",
    "plt.plot(epochs, gen_f_losses, label='Generator F Loss (Monet→Photo)')\n",
    "plt.plot(epochs, disc_x_losses, label='Discriminator X Loss (Photo)')\n",
    "plt.plot(epochs, disc_y_losses, label='Discriminator Y Loss (Monet)')\n",
    "plt.plot(epochs, cycle_losses, label='Cycle Consistency Loss')\n",
    "plt.plot(epochs, identity_losses, label='Identity Loss')\n",
    "\n",
    "plt.title(\"CycleGAN Training Losses Over Epochs\")\n",
    "plt.xlabel(\"Epoch\")\n",
    "plt.ylabel(\"Loss\")\n",
    "plt.legend()\n",
    "plt.grid(True)\n",
    "plt.tight_layout()\n",
    "plt.show()"
   ]
  },
  {
   "cell_type": "code",
   "execution_count": null,
   "id": "707eec64",
   "metadata": {},
   "outputs": [],
   "source": [
    "def generate_images(model, test_input):\n",
    "    prediction = model(test_input, training=False)\n",
    "    plt.figure(figsize=(12, 6))\n",
    "\n",
    "    display_list = [test_input[0], prediction[0]]\n",
    "    title = ['Input Image', 'Translated Image']\n",
    "\n",
    "    for i in range(2):\n",
    "        plt.subplot(1, 2, i+1)\n",
    "        plt.title(title[i])\n",
    "        plt.imshow((display_list[i] * 0.5 + 0.5).numpy())\n",
    "        plt.axis('off')\n",
    "    plt.show()"
   ]
  },
  {
   "cell_type": "code",
   "execution_count": null,
   "id": "24c4d04f",
   "metadata": {},
   "outputs": [],
   "source": [
    "for i, batch in enumerate(photo_ds):\n",
    "    generate_images(generator_g, batch)\n",
    "    if i == 4:\n",
    "        break"
   ]
  },
  {
   "cell_type": "code",
   "execution_count": null,
   "id": "65530c91",
   "metadata": {},
   "outputs": [],
   "source": [
    "! mkdir ../images\n"
   ]
  },
  {
   "cell_type": "code",
   "execution_count": null,
   "id": "0ae7518b",
   "metadata": {},
   "outputs": [],
   "source": [
    "i = 1\n",
    "for img in photo_ds:\n",
    "    prediction = generator_g(img, training=False)[0].numpy()\n",
    "    prediction = (prediction * 127.5 + 127.5).astype(np.uint8)\n",
    "    im = Image.fromarray(prediction)\n",
    "    im.save(\"../images/\" + str(i) + \".jpg\")\n",
    "    i += 1"
   ]
  },
  {
   "cell_type": "code",
   "execution_count": null,
   "id": "8d3cbc3f",
   "metadata": {},
   "outputs": [],
   "source": [
    "shutil.make_archive(\"/kaggle/working/images\", 'zip', \"/kaggle/images\")\n"
   ]
  }
 ],
 "metadata": {
  "kernelspec": {
   "display_name": "Python (Finance)",
   "language": "python",
   "name": "finance_env"
  },
  "language_info": {
   "codemirror_mode": {
    "name": "ipython",
    "version": 3
   },
   "file_extension": ".py",
   "mimetype": "text/x-python",
   "name": "python",
   "nbconvert_exporter": "python",
   "pygments_lexer": "ipython3",
   "version": "3.12.3"
  }
 },
 "nbformat": 4,
 "nbformat_minor": 5
}
